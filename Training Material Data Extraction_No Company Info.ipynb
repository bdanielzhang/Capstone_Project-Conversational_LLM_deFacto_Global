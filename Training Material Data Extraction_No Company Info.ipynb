{
 "cells": [
  {
   "cell_type": "markdown",
   "id": "68a1d336",
   "metadata": {},
   "source": [
    "# Training Material Data Extraction"
   ]
  },
  {
   "cell_type": "markdown",
   "id": "2413cd76",
   "metadata": {},
   "source": [
    "## I. Objective\n",
    "The primary goal of this notebook is to create a robust data extraction pipeline for deFacto Global, an xP&A software company headquartered in Troy, New York. This pipeline will be used to scrape textual data from the company's training materials. The extracted data will be essential for training and updating their conversational large language model (chatbot).\n",
    "<br>\n",
    "As deFacto Global updates its training materials on a quarterly basis, this notebook is designed to facilitate seamless content updates for the company's conversation large language model. By following the procedures outlined here, we can ensure that the chatbot always provides accurate and up-to-date information to users.\n",
    "<br>\n",
    "You can learn more about what the company does from its official website: https://defactoglobal.com/"
   ]
  },
  {
   "cell_type": "markdown",
   "id": "7778efed",
   "metadata": {},
   "source": [
    "## II. Confidentiality\n",
    "1. **Important**: Please be aware that this notebook does not contain references to confidential information related to deFacto Global, including login credentials for the company's software and details of their training materials. This information has been masked and hidden from public view.\n",
    "<br>\n",
    "2. **Purpose of This Notebook**\n",
    "This notebook is intended solely for the purpose of demonstrating the data extraction and pipeline creation process. It is **not** intended for any commercial usage, distribution, or unauthorized access to deFacto Global's proprietary information. The primary goal is to showcase the methodology and techniques used in the data extraction process for educational and demonstrative purposes only.\n",
    "<br>\n",
    "3. **Responsible Use**\n",
    "We emphasize the importance of using this notebook responsibly and in compliance with ethical and legal standards. Unauthorized use, sharing, or distribution of confidential information is strictly prohibited. Always respect the privacy and security of sensitive data."
   ]
  },
  {
   "cell_type": "markdown",
   "id": "9a3018cd",
   "metadata": {},
   "source": [
    "## III. Instructions\n",
    "1. The program best runs on Jupyter Notebook.\n",
    "2. Install selenium and BeautifulSoup4 (bs4).\n",
    "3. Download the latest version of ChromeDriver from https://chromedriver.chromium.org/ , make sure the excutable path is /usr/local/bin/ , our Chrome version is 116.0.5845.110 (Official Build) (x86_64), and the ChromeDriver(Mac) we are using is 116.0.5845.96 (r1160321), from https://edgedl.me.gvt1.com/edgedl/chrome/chrome-for-testing/116.0.5845.96/mac-x64/chromedriver-mac-x64.zip\n",
    "4. Always make sure the chrome driver version matches the the user version of Chrome."
   ]
  },
  {
   "cell_type": "markdown",
   "id": "3e5cba79",
   "metadata": {},
   "source": [
    "## IV. Scrap Sample Content"
   ]
  },
  {
   "cell_type": "code",
   "execution_count": 11,
   "id": "17ebd610",
   "metadata": {},
   "outputs": [],
   "source": [
    "# Import packages\n",
    "import pandas as pd\n",
    "import numpy as np\n",
    "from bs4 import BeautifulSoup\n",
    "import time\n",
    "from selenium import webdriver\n",
    "from selenium.webdriver.chrome.options import Options\n",
    "from selenium.webdriver.common.by import By\n",
    "from selenium.webdriver.support.ui import WebDriverWait\n",
    "from selenium.webdriver.support import expected_conditions as EC\n",
    "import time"
   ]
  },
  {
   "cell_type": "code",
   "execution_count": 12,
   "id": "7cc40a71",
   "metadata": {},
   "outputs": [],
   "source": [
    "# Set options for chrome \n",
    "chrome_options = Options()\n",
    "chrome_options.add_argument(\"--disable-extensions\")\n",
    "chrome_options.add_argument('--headless') \n",
    "chrome_options.add_argument('--disable-gpu')\n",
    "chrome_options.add_argument('start-maximized')\n",
    "chrome_options.add_argument('--no-sandbox')\n",
    "chrome_options.add_argument('--disable-dev-shm-usage')"
   ]
  },
  {
   "cell_type": "code",
   "execution_count": 13,
   "id": "383bb355",
   "metadata": {},
   "outputs": [],
   "source": [
    "# Create a new instance of the chrome driver\n",
    "driver = webdriver.Chrome(executable_path = '/usr/local/bin/chromedriver', chrome_options = chrome_options)\n",
    "\n",
    "# Navigate to the website's login page\n",
    "driver.get('https://training.defactoglobal.com/dashboard/')"
   ]
  },
  {
   "cell_type": "code",
   "execution_count": 14,
   "id": "ef46f3b7",
   "metadata": {},
   "outputs": [],
   "source": [
    "# Find the username and password input fields using ID attributes\n",
    "username_field = WebDriverWait(driver, 10).until(EC.presence_of_element_located((By.ID, 'llms_login')))\n",
    "password_field = WebDriverWait(driver, 10).until(EC.presence_of_element_located((By.ID, 'llms_password')))\n",
    "\n",
    "# Enter the username and password\n",
    "username_field.send_keys('xxxx') # Not a real login and password \n",
    "password_field.send_keys('yyyy')\n",
    "\n",
    "# Submit the login form\n",
    "password_field.submit()"
   ]
  },
  {
   "cell_type": "code",
   "execution_count": 15,
   "id": "0d40db23",
   "metadata": {},
   "outputs": [],
   "source": [
    "# Wait for the image element to be clickable\n",
    "image_element = WebDriverWait(driver, 10).until(EC.element_to_be_clickable((By.XPATH, '//img[@src=\"https://training.defactoglobal.com/wp-content/uploads/2020/04/Course1.png\"]')))\n",
    "\n",
    "# Click on the image\n",
    "image_element.click()"
   ]
  },
  {
   "cell_type": "code",
   "execution_count": 16,
   "id": "c1b51c78",
   "metadata": {},
   "outputs": [],
   "source": [
    "# Wait for the tab element to be clickable\n",
    "tab_element = WebDriverWait(driver, 10).until(EC.element_to_be_clickable((By.XPATH, '//h5[contains(text(), \"General Information\")]')))\n",
    "\n",
    "# Click on the tab\n",
    "tab_element.click()"
   ]
  },
  {
   "cell_type": "code",
   "execution_count": 17,
   "id": "dc080133",
   "metadata": {},
   "outputs": [
    {
     "data": {
      "text/plain": [
       "<selenium.webdriver.remote.webelement.WebElement (session=\"6f465043a24c10855f92d87fbf82ea76\", element=\"AC58EE3B28B6D39FB8912FEC7E14910C_element_61\")>"
      ]
     },
     "execution_count": 17,
     "metadata": {},
     "output_type": "execute_result"
    }
   ],
   "source": [
    "# Wait for the page content to load\n",
    "WebDriverWait(driver, 10).until(EC.presence_of_element_located((By.TAG_NAME, 'body')))"
   ]
  },
  {
   "cell_type": "markdown",
   "id": "7db3da6b",
   "metadata": {},
   "source": [
    "### a. Scrapping all contents on Tab - General Information"
   ]
  },
  {
   "cell_type": "code",
   "execution_count": 18,
   "id": "fbd1bc04",
   "metadata": {},
   "outputs": [],
   "source": [
    "# Get the page source\n",
    "page_source = driver.page_source\n",
    "\n",
    "# Create BeautifulSoup object\n",
    "soup = BeautifulSoup(page_source, 'html.parser')\n",
    "\n",
    "# Scrape everything on the page\n",
    "all_elements = soup.find_all()\n",
    "\n",
    "# Print the scraped elements\n",
    "#for element in all_elements:\n",
    "    #print(element)"
   ]
  },
  {
   "cell_type": "markdown",
   "id": "24e0f12e",
   "metadata": {},
   "source": [
    "### b. Scrapping selected contents on Tab - General Information"
   ]
  },
  {
   "cell_type": "code",
   "execution_count": 19,
   "id": "8322358a",
   "metadata": {},
   "outputs": [],
   "source": [
    "# Get the page source\n",
    "page_source = driver.page_source\n",
    "\n",
    "# Create BeautifulSoup object\n",
    "soup = BeautifulSoup(page_source, 'html.parser')\n",
    "\n",
    "# Scrape selected content on the page\n",
    "all_elements = soup.find('div', class_ = 'entry-content clear')\n",
    "\n",
    "# Print the scraped elements\n",
    "#for element in all_elements:\n",
    "    #print(element)"
   ]
  },
  {
   "cell_type": "code",
   "execution_count": 20,
   "id": "6125b1e7",
   "metadata": {},
   "outputs": [],
   "source": [
    "# Close the driver\n",
    "driver.quit()"
   ]
  },
  {
   "cell_type": "markdown",
   "id": "cd94cd93",
   "metadata": {},
   "source": [
    "## V. Extraction of All Tabs in Course One\n",
    "### \"deFacto Planning Admin Guide – Modeler\""
   ]
  },
  {
   "cell_type": "code",
   "execution_count": 21,
   "id": "a4a78f1e",
   "metadata": {},
   "outputs": [],
   "source": [
    "# Set options for chrome \n",
    "chrome_options = Options()\n",
    "chrome_options.add_argument(\"--disable-extensions\")\n",
    "chrome_options.add_argument('--headless') \n",
    "chrome_options.add_argument('--disable-gpu')\n",
    "chrome_options.add_argument('start-maximized')\n",
    "chrome_options.add_argument('--no-sandbox')\n",
    "chrome_options.add_argument('--disable-dev-shm-usage')"
   ]
  },
  {
   "cell_type": "code",
   "execution_count": 22,
   "id": "87b9381e",
   "metadata": {},
   "outputs": [
    {
     "name": "stdout",
     "output_type": "stream",
     "text": [
      "The total time to execute the data scraping in first 10 tab is 87.95452284812927\n"
     ]
    }
   ],
   "source": [
    "# Design a function that extract data in each tab\n",
    "def login_and_scrape_tab(tab_xpath, tab_name):\n",
    "\n",
    "    # Create a new instance of the Chrome driver\n",
    "    driver = webdriver.Chrome(executable_path='/usr/local/bin/chromedriver', chrome_options=chrome_options)\n",
    "\n",
    "    try:\n",
    "        # Navigate to the website's login page\n",
    "        driver.get('https://training.defactoglobal.com/dashboard/')\n",
    "\n",
    "        # Find the username and password input fields using ID attributes\n",
    "        username_field = WebDriverWait(driver, 10).until(EC.presence_of_element_located((By.ID, 'llms_login')))\n",
    "        password_field = WebDriverWait(driver, 10).until(EC.presence_of_element_located((By.ID, 'llms_password')))\n",
    "\n",
    "        # Enter the username and password\n",
    "        username_field.send_keys('xxxx')\n",
    "        password_field.send_keys('yyyy')\n",
    "\n",
    "        # Submit the login form\n",
    "        password_field.submit()\n",
    "\n",
    "        # Wait for the image element to be clickable and click on it\n",
    "        image_element = WebDriverWait(driver, 10).until(EC.element_to_be_clickable((By.XPATH, '//img[@src=\"https://training.defactoglobal.com/wp-content/uploads/2020/04/Course1.png\"]')))\n",
    "        image_element.click()\n",
    "\n",
    "        # Wait for the tab element to be clickable and click on it\n",
    "        tab_element = WebDriverWait(driver, 10).until(EC.element_to_be_clickable((By.XPATH, tab_xpath)))\n",
    "        tab_element.click()\n",
    "\n",
    "        # Get the page source\n",
    "        time.sleep(2)  # Add a small delay to ensure the page loads completely\n",
    "        page_source = driver.page_source\n",
    "\n",
    "        # Create BeautifulSoup object\n",
    "        soup = BeautifulSoup(page_source, 'html.parser')\n",
    "\n",
    "        # Scrape everything on the page\n",
    "        tab_content = soup.find('div', class_='entry-content clear')\n",
    "\n",
    "        # Close the WebDriver\n",
    "        driver.quit()\n",
    "\n",
    "        return {\n",
    "            \"Tab_Name\": tab_name,\n",
    "            \"Tab_Content\": tab_content.text.strip()\n",
    "        }\n",
    "\n",
    "    except Exception as e:\n",
    "        print(f\"An error occurred: {e}\")\n",
    "        driver.quit()\n",
    "        return None\n",
    "\n",
    "# Function usage:\n",
    "start_time = time.time() # Calculating the time difference in seconds\n",
    "\n",
    "tab1_data = login_and_scrape_tab('//h5[contains(text(), \"General Information\")]', 'General Information')\n",
    "tab2_data = login_and_scrape_tab('//h5[contains(text(), \"dFModeler Tools\")]', 'dFModeler_Tools')\n",
    "tab3_data = login_and_scrape_tab('//h5[contains(text(), \"Application Overview\")]', 'Application_Overview')\n",
    "tab4_data = login_and_scrape_tab('//h5[contains(text(), \"Create an Application\")]', 'Create an Application')\n",
    "tab5_data = login_and_scrape_tab('//h5[contains(text(), \"Export/Import an Application\")]', 'Export/Import an Application')\n",
    "tab6_data = login_and_scrape_tab('//h5[contains(text(), \"Delete Options\")]', 'Delete Options')\n",
    "tab7_data = login_and_scrape_tab('//h5[contains(text(), \"Server Settings\")]', 'Sever Settings')\n",
    "tab8_data = login_and_scrape_tab('//h5[contains(text(), \"Dimension Overview\")]', 'Dimension Overview')\n",
    "tab9_data = login_and_scrape_tab('//h5[contains(text(), \"Dimension Types\")]', 'Dimension Types')\n",
    "tab10_data = login_and_scrape_tab('//h5[contains(text(), \"Dimension Members\")]', 'Dimension Members')\n",
    "\n",
    "end_time = time.time()  # End timing\n",
    "time_difference_1 = end_time - start_time\n",
    "\n",
    "print('The total time to execute the data scraping in first 10 tab is', time_difference_1)"
   ]
  },
  {
   "cell_type": "code",
   "execution_count": 23,
   "id": "74f3a5c3",
   "metadata": {},
   "outputs": [
    {
     "name": "stdout",
     "output_type": "stream",
     "text": [
      "The total time to execute the data scraping in second 10 tab is 86.05310106277466\n"
     ]
    }
   ],
   "source": [
    "# Function usage:\n",
    "start_time = time.time() # Calculating the time difference in seconds\n",
    "\n",
    "tab11_data = login_and_scrape_tab('//h5[contains(text(), \"Dimension Hierarchies\")]', 'Dimension Hierarchies')\n",
    "tab12_data = login_and_scrape_tab('//h5[contains(text(), \"Dimension Properties\")]', 'Dimension Properties')\n",
    "tab13_data = login_and_scrape_tab('//h5[contains(text(), \"Export/Import Dimensions\")]', 'Export/Import Dimensions')\n",
    "tab14_data = login_and_scrape_tab('//h5[contains(text(), \"Delete a Dimension\")]', 'Delete a Dimension')\n",
    "tab15_data = login_and_scrape_tab('//h5[contains(text(), \"Model Overview\")]', 'Model Overview')\n",
    "tab16_data = login_and_scrape_tab('//h5[contains(text(), \"Deploy Application\")]', 'Deploy Application')\n",
    "tab17_data = login_and_scrape_tab('//h5[contains(text(), \"Security Overview\")]', 'Security Overview')\n",
    "tab18_data = login_and_scrape_tab('//h5[contains(text(), \"Secured Dimensions\")]', 'Secured Dimensions')\n",
    "tab19_data = login_and_scrape_tab('//h5[contains(text(), \"Security Roles Overview\")]', 'Security Roles Overview')\n",
    "tab20_data = login_and_scrape_tab('//h5[contains(text(), \"Define a Security Role\")]', 'Define a Security Role')\n",
    "\n",
    "end_time = time.time()  # End timing\n",
    "time_difference_2 = end_time - start_time\n",
    "\n",
    "print('The total time to execute the data scraping in second 10 tab is', time_difference_2)"
   ]
  },
  {
   "cell_type": "code",
   "execution_count": 24,
   "id": "7882d0b2",
   "metadata": {},
   "outputs": [
    {
     "name": "stdout",
     "output_type": "stream",
     "text": [
      "The total time to execute the data scraping in third 10 tab is 86.66179895401001\n"
     ]
    }
   ],
   "source": [
    "# Function usage:\n",
    "start_time = time.time() # Calculating the time difference in seconds\n",
    "\n",
    "tab21_data = login_and_scrape_tab('//h5[contains(text(), \"Administrator Role\")]', 'Administrator Role')\n",
    "tab22_data = login_and_scrape_tab('//h5[contains(text(), \"Business Rules Overview\")]', 'Business Rules Overview')\n",
    "tab23_data = login_and_scrape_tab('//h5[contains(text(), \"Dynamic Members\")]', 'Dynamic Members')\n",
    "tab24_data = login_and_scrape_tab('//h5[contains(text(), \"On Demand\")]', 'On Demand')\n",
    "tab25_data = login_and_scrape_tab('//h5[contains(text(), \"Business Rule Library\")]', 'Business Rule Library')\n",
    "tab26_data = login_and_scrape_tab('//h5[contains(text(), \"Automatic\")]', 'Automatic')\n",
    "tab27_data = login_and_scrape_tab('//h5[contains(text(), \"Configure FX Translations\")]', 'Configure FX Translations')\n",
    "tab28_data = login_and_scrape_tab('//h5[contains(text(), \"FX Business Rules\")]', 'FX Business Rules')\n",
    "tab29_data = login_and_scrape_tab('//h5[contains(text(), \"Constant Currency\")]', 'Constant Currency')\n",
    "tab30_data = login_and_scrape_tab('//h5[contains(text(), \"Data Locks Overview\")]', 'Data Locks Overview')\n",
    "\n",
    "end_time = time.time()  # End timing\n",
    "time_difference_3 = end_time - start_time\n",
    "\n",
    "print('The total time to execute the data scraping in third 10 tab is', time_difference_3)"
   ]
  },
  {
   "cell_type": "code",
   "execution_count": 25,
   "id": "c213a1a2",
   "metadata": {},
   "outputs": [
    {
     "name": "stdout",
     "output_type": "stream",
     "text": [
      "The total time to execute the data scraping in last 10 tabs is 86.05617785453796\n"
     ]
    }
   ],
   "source": [
    "# Function usage:\n",
    "start_time = time.time() # Calculating the time difference in seconds\n",
    "\n",
    "tab31_data = login_and_scrape_tab('//h5[contains(text(), \"Configure Data Locks\")]', 'Configure Data Locks')\n",
    "tab32_data = login_and_scrape_tab('//h5[contains(text(), \"Lists Overview\")]', 'Lists Overview')\n",
    "tab33_data = login_and_scrape_tab('//h5[contains(text(), \"Define a Book Publishing List\")]', 'Define a Book Publishing List')\n",
    "tab34_data = login_and_scrape_tab('//h5[contains(text(), \"Define a Workflow List\")]', 'Define a Workflow List')\n",
    "tab35_data = login_and_scrape_tab('//h5[contains(text(), \"Create and Use Variables\")]', 'Create and Use Variables')\n",
    "tab36_data = login_and_scrape_tab('//h5[contains(text(), \"Using Partitions\")]', 'Using Partitions')\n",
    "tab37_data = login_and_scrape_tab('//h5[contains(text(), \"Creating a Workflow\")]', 'Creating a Workflow')\n",
    "tab38_data = login_and_scrape_tab('//h5[contains(text(), \"Assignment Task\")]', 'Assignment Task')\n",
    "tab39_data = login_and_scrape_tab('//h5[contains(text(), \"Business Rule Task\")]', 'Business Rule Task')\n",
    "tab40_data = login_and_scrape_tab('//h5[contains(text(), \"Process Task\")]', 'Process Task')\n",
    "\n",
    "end_time = time.time()  # End timing\n",
    "time_difference_4 = end_time - start_time\n",
    "\n",
    "print('The total time to execute the data scraping in last 10 tabs is', time_difference_4)"
   ]
  },
  {
   "cell_type": "code",
   "execution_count": 26,
   "id": "888e70e1",
   "metadata": {},
   "outputs": [
    {
     "name": "stdout",
     "output_type": "stream",
     "text": [
      "The average time to extract each Tab from deFacto Planning Admin Guide – Modeler is 8.67 seconds\n"
     ]
    }
   ],
   "source": [
    "# Calculating the total/average time to scrap all content of this course \n",
    "total_time_a = time_difference_1 + time_difference_2  + time_difference_3 + time_difference_4 \n",
    "average_time_a = (time_difference_1 + time_difference_2  + time_difference_3 + time_difference_4 )/40\n",
    "\n",
    "# Print it in minutes \n",
    "print('The average time to extract each Tab from deFacto Planning Admin Guide – Modeler is', \\\n",
    "      round(average_time_a, 2), \"seconds\")"
   ]
  },
  {
   "cell_type": "code",
   "execution_count": 27,
   "id": "b4e2c84a",
   "metadata": {},
   "outputs": [],
   "source": [
    "# Create a DataFrame\n",
    "modeler_data = {\n",
    "\"Tab_Name\": [tab1_data['Tab_Name'], tab2_data['Tab_Name'], tab3_data['Tab_Name'], tab4_data['Tab_Name'], \n",
    "             tab5_data['Tab_Name'], tab6_data['Tab_Name'], tab7_data['Tab_Name'], tab8_data['Tab_Name'], \n",
    "             tab9_data['Tab_Name'], tab10_data['Tab_Name'], tab11_data['Tab_Name'], tab12_data['Tab_Name'], \n",
    "             tab13_data['Tab_Name'], tab14_data['Tab_Name'], tab15_data['Tab_Name'], tab16_data['Tab_Name'], \n",
    "             tab17_data['Tab_Name'], tab18_data['Tab_Name'], tab19_data['Tab_Name'], tab20_data['Tab_Name'],\n",
    "             tab21_data['Tab_Name'], tab22_data['Tab_Name'], tab23_data['Tab_Name'], tab24_data['Tab_Name'], \n",
    "             tab25_data['Tab_Name'], tab26_data['Tab_Name'], tab27_data['Tab_Name'], tab28_data['Tab_Name'], \n",
    "             tab29_data['Tab_Name'], tab30_data['Tab_Name'], tab31_data['Tab_Name'], tab32_data['Tab_Name'], \n",
    "             tab33_data['Tab_Name'], tab34_data['Tab_Name'], tab35_data['Tab_Name'], tab36_data['Tab_Name'], \n",
    "             tab37_data['Tab_Name'], tab38_data['Tab_Name'], tab39_data['Tab_Name'], tab40_data['Tab_Name']]\n",
    ", \n",
    "\"Tab_Content\": [tab1_data['Tab_Content'], tab2_data['Tab_Content'], tab3_data['Tab_Content'], tab4_data['Tab_Content'], \n",
    "             tab5_data['Tab_Content'], tab6_data['Tab_Content'], tab7_data['Tab_Content'], tab8_data['Tab_Content'], \n",
    "             tab9_data['Tab_Content'], tab10_data['Tab_Content'], tab11_data['Tab_Content'], tab12_data['Tab_Content'], \n",
    "             tab13_data['Tab_Content'], tab14_data['Tab_Content'], tab15_data['Tab_Content'], tab16_data['Tab_Content'], \n",
    "             tab17_data['Tab_Content'], tab18_data['Tab_Content'], tab19_data['Tab_Content'], tab20_data['Tab_Content'],\n",
    "             tab21_data['Tab_Content'], tab22_data['Tab_Content'], tab23_data['Tab_Content'], tab24_data['Tab_Content'], \n",
    "             tab25_data['Tab_Content'], tab26_data['Tab_Content'], tab27_data['Tab_Content'], tab28_data['Tab_Content'], \n",
    "             tab29_data['Tab_Content'], tab30_data['Tab_Content'], tab31_data['Tab_Content'], tab32_data['Tab_Content'], \n",
    "             tab33_data['Tab_Content'], tab34_data['Tab_Content'], tab35_data['Tab_Content'], tab36_data['Tab_Content'], \n",
    "             tab37_data['Tab_Content'], tab38_data['Tab_Content'], tab39_data['Tab_Content'], tab40_data['Tab_Content']]\n",
    "}\n",
    "\n",
    "# Construct dataframe\n",
    "df_modeler = pd.DataFrame(modeler_data)\n",
    "# print(df_modeler)"
   ]
  },
  {
   "cell_type": "markdown",
   "id": "7ecebe7e",
   "metadata": {},
   "source": [
    "## VI. Extraction of All Tabs in Course Two\n",
    "### \"deFacto Planning User Guide – Planner\""
   ]
  },
  {
   "cell_type": "code",
   "execution_count": 28,
   "id": "a1deb4ca",
   "metadata": {},
   "outputs": [
    {
     "name": "stdout",
     "output_type": "stream",
     "text": [
      "The total time to execute the data scraping in all 13 tabs is 112.46830534934998\n"
     ]
    }
   ],
   "source": [
    "# Design a function that extract data in each tab\n",
    "def login_and_scrape_tab(tab_xpath, tab_name):\n",
    "\n",
    "    # Create a new instance of the Chrome driver\n",
    "    driver = webdriver.Chrome(executable_path='/usr/local/bin/chromedriver', chrome_options=chrome_options)\n",
    "\n",
    "    try:\n",
    "        # Navigate to the website's login page\n",
    "        driver.get('https://training.defactoglobal.com/dashboard/')\n",
    "\n",
    "        # Find the username and password input fields using ID attributes\n",
    "        username_field = WebDriverWait(driver, 10).until(EC.presence_of_element_located((By.ID, 'llms_login')))\n",
    "        password_field = WebDriverWait(driver, 10).until(EC.presence_of_element_located((By.ID, 'llms_password')))\n",
    "\n",
    "        # Enter the username and password\n",
    "        username_field.send_keys('xxxx')\n",
    "        password_field.send_keys('yyyy')\n",
    "\n",
    "        # Submit the login form\n",
    "        password_field.submit()\n",
    "\n",
    "        # Wait for the image element to be clickable and click on it\n",
    "        image_element = WebDriverWait(driver, 10).until(EC.element_to_be_clickable((By.XPATH, '//a[@href=\"https://training.defactoglobal.com/course/defacto-planning-user-guide-planner/\"]')))\n",
    "        image_element.click()\n",
    "\n",
    "        # Wait for the tab element to be clickable and click on it\n",
    "        tab_element = WebDriverWait(driver, 10).until(EC.element_to_be_clickable((By.XPATH, tab_xpath)))\n",
    "        tab_element.click()\n",
    "\n",
    "        # Get the page source\n",
    "        time.sleep(2)  # Add a small delay to ensure the page loads completely\n",
    "        page_source = driver.page_source\n",
    "\n",
    "        # Create BeautifulSoup object\n",
    "        soup = BeautifulSoup(page_source, 'html.parser')\n",
    "\n",
    "        # Scrape everything on the page\n",
    "        tab_content = soup.find('div', class_='entry-content clear')\n",
    "\n",
    "        # Close the WebDriver\n",
    "        driver.quit()\n",
    "\n",
    "        return {\n",
    "            \"Tab_Name\": tab_name,\n",
    "            \"Tab_Content\": tab_content.text.strip()\n",
    "        }\n",
    "\n",
    "    except Exception as e:\n",
    "        print(f\"An error occurred: {e}\")\n",
    "        driver.quit()\n",
    "        return None\n",
    "\n",
    "# Function usage:\n",
    "start_time = time.time() # Calculating the time difference in seconds\n",
    "\n",
    "tab1_data = login_and_scrape_tab('//h5[contains(text(), \"General Information\")]', 'General Information')\n",
    "tab2_data = login_and_scrape_tab('//h5[contains(text(), \"Data Submission\")]', 'Data Submission')\n",
    "tab3_data = login_and_scrape_tab('//h5[contains(text(), \"Create an Input Template\")]', 'Create an Input Template')\n",
    "tab4_data = login_and_scrape_tab('//h5[contains(text(), \"Comments\")]', 'Comments')\n",
    "tab5_data = login_and_scrape_tab('//h5[contains(text(), \"Add Suppressed Items\")]', 'Add Suppressed Items')\n",
    "tab6_data = login_and_scrape_tab('//h5[contains(text(), \"Overview\")]', 'Overview')\n",
    "tab7_data = login_and_scrape_tab('//h5[contains(text(), \"Clear Data\")]', 'Clear Data')\n",
    "tab8_data = login_and_scrape_tab('//h5[contains(text(), \"Load Data\")]', 'Load Data')\n",
    "tab9_data = login_and_scrape_tab('//h5[contains(text(), \"Extract Data\")]', 'Extract Data')\n",
    "tab10_data = login_and_scrape_tab('//h5[contains(text(), \"Audit Data\")]', 'Audit Data')\n",
    "tab11_data = login_and_scrape_tab('//h5[contains(text(), \"Run Business Rules\")]', 'Run Business Rules')\n",
    "tab12_data = login_and_scrape_tab('//h5[contains(text(), \"Workflow Overview\")]', 'Workflow Overview')\n",
    "tab13_data = login_and_scrape_tab('//h5[contains(text(), \"Using Workflow\")]', 'Using Workflow')\n",
    "\n",
    "end_time = time.time()  # End timing\n",
    "time_difference_1 = end_time - start_time\n",
    "    \n",
    "print('The total time to execute the data scraping in all 13 tabs is', time_difference_1)"
   ]
  },
  {
   "cell_type": "code",
   "execution_count": 29,
   "id": "8cae4a5a",
   "metadata": {},
   "outputs": [
    {
     "name": "stdout",
     "output_type": "stream",
     "text": [
      "The average time to extract each Tab from deFacto Planning Admin Guide – Planner is 8.65 seconds\n"
     ]
    }
   ],
   "source": [
    "# Calculating the total/average time to scrap all content of this course \n",
    "total_time_b = time_difference_1\n",
    "average_time_b = time_difference_1 / 13\n",
    "\n",
    "# Print it in minutes \n",
    "print('The average time to extract each Tab from deFacto Planning Admin Guide – Planner is', \\\n",
    "      round(average_time_b, 2), \"seconds\")"
   ]
  },
  {
   "cell_type": "code",
   "execution_count": 30,
   "id": "2f6d9d2b",
   "metadata": {},
   "outputs": [],
   "source": [
    "# Create a DataFrame\n",
    "planner_data = {\n",
    "\n",
    "\"Tab_Name\": [tab1_data['Tab_Name'], tab2_data['Tab_Name'], tab3_data['Tab_Name'], tab4_data['Tab_Name'], \n",
    "             tab5_data['Tab_Name'], tab6_data['Tab_Name'], tab7_data['Tab_Name'], tab8_data['Tab_Name'], \n",
    "             tab9_data['Tab_Name'], tab10_data['Tab_Name'], tab11_data['Tab_Name'], tab12_data['Tab_Name'], \n",
    "             tab13_data['Tab_Name']]\n",
    ", \n",
    "\"Tab_Content\": [tab1_data['Tab_Content'], tab2_data['Tab_Content'], tab3_data['Tab_Content'], tab4_data['Tab_Content'], \n",
    "             tab5_data['Tab_Content'], tab6_data['Tab_Content'], tab7_data['Tab_Content'], tab8_data['Tab_Content'], \n",
    "             tab9_data['Tab_Content'], tab10_data['Tab_Content'], tab11_data['Tab_Content'], tab12_data['Tab_Content'], \n",
    "             tab13_data['Tab_Content']]\n",
    "}\n",
    "\n",
    "# Construct dataframe\n",
    "df_planner = pd.DataFrame(planner_data)\n",
    "#print(df_planner)"
   ]
  },
  {
   "cell_type": "markdown",
   "id": "f6df3e38",
   "metadata": {},
   "source": [
    "## VII. Extraction of All Tabs in Course Three\n",
    "### \"deFacto Planning User Guide – Reporter\""
   ]
  },
  {
   "cell_type": "code",
   "execution_count": 31,
   "id": "3f4693c7",
   "metadata": {},
   "outputs": [
    {
     "name": "stdout",
     "output_type": "stream",
     "text": [
      "The total time to execute the data scraping in first 10 tabs is 93.37719011306763\n"
     ]
    }
   ],
   "source": [
    "# Design a function that extract data in each tab\n",
    "def login_and_scrape_tab(tab_xpath, tab_name):\n",
    "\n",
    "    # Create a new instance of the Chrome driver\n",
    "    driver = webdriver.Chrome(executable_path='/usr/local/bin/chromedriver', chrome_options=chrome_options)\n",
    "\n",
    "    try:\n",
    "        # Navigate to the website's login page\n",
    "        driver.get('https://training.defactoglobal.com/dashboard/')\n",
    "\n",
    "        # Find the username and password input fields using ID attributes\n",
    "        username_field = WebDriverWait(driver, 10).until(EC.presence_of_element_located((By.ID, 'llms_login')))\n",
    "        password_field = WebDriverWait(driver, 10).until(EC.presence_of_element_located((By.ID, 'llms_password')))\n",
    "\n",
    "        # Enter the username and password\n",
    "        username_field.send_keys('xxxx')\n",
    "        password_field.send_keys('yyyy')\n",
    "\n",
    "        # Submit the login form\n",
    "        password_field.submit()\n",
    "\n",
    "        # Wait for the image element to be clickable and click on it\n",
    "        image_element = WebDriverWait(driver, 10).until(EC.element_to_be_clickable((By.XPATH, '//a[@href=\"https://training.defactoglobal.com/course/defacto-planning-user-guide-reporter/\"]')))\n",
    "        image_element.click()\n",
    "\n",
    "        # Wait for the tab element to be clickable and click on it\n",
    "        tab_element = WebDriverWait(driver, 10).until(EC.element_to_be_clickable((By.XPATH, tab_xpath)))\n",
    "        tab_element.click()\n",
    "\n",
    "        # Get the page source\n",
    "        time.sleep(2)  # Add a small delay to ensure the page loads completely\n",
    "        page_source = driver.page_source\n",
    "\n",
    "        # Create BeautifulSoup object\n",
    "        soup = BeautifulSoup(page_source, 'html.parser')\n",
    "\n",
    "        # Scrape everything on the page\n",
    "        tab_content = soup.find('div', class_='entry-content clear')\n",
    "\n",
    "        # Close the WebDriver\n",
    "        driver.quit()\n",
    "\n",
    "        return {\n",
    "            \"Tab_Name\": tab_name,\n",
    "            \"Tab_Content\": tab_content.text.strip()\n",
    "        }\n",
    "\n",
    "    except Exception as e:\n",
    "        print(f\"An error occurred: {e}\")\n",
    "        driver.quit()\n",
    "        return None\n",
    "\n",
    "# Function usage:\n",
    "start_time = time.time() # Calculating the time difference in seconds\n",
    "\n",
    "tab1_data = login_and_scrape_tab('//h5[contains(text(), \"General Information\")]', 'General Information')\n",
    "tab2_data = login_and_scrape_tab('//h5[contains(text(), \"deFacto Ribbon\")]', 'deFacto Ribbon')\n",
    "tab3_data = login_and_scrape_tab('//h5[contains(text(), \"deFacto Current View\")]', 'deFacto Current View')\n",
    "tab4_data = login_and_scrape_tab('//h5[contains(text(), \"deFacto Tools\")]', 'deFacto Tools')\n",
    "tab5_data = login_and_scrape_tab('//h5[contains(text(), \"Report Library – Open Report\")]', 'Report Library – Open Report')\n",
    "tab6_data = login_and_scrape_tab('//h5[contains(text(), \"Investigate Data\")]', 'Investigate Data')\n",
    "tab7_data = login_and_scrape_tab('//h5[contains(text(), \"Report Designer – Design Report\")]', 'Report Designer – Design Report')\n",
    "tab8_data = login_and_scrape_tab('//h5[contains(text(), \"Report Designer – Copy Report\")]', 'Report Designer – Copy Report')\n",
    "tab9_data = login_and_scrape_tab('//h5[contains(text(), \"Report Library – Import Report\")]', 'Report Library – Import Report')\n",
    "tab10_data = login_and_scrape_tab('//h5[contains(text(), \"Using the Report Designer\")]', 'Using the Report Designer')\n",
    "\n",
    "end_time = time.time()  # End timing\n",
    "time_difference_1 = end_time - start_time\n",
    "\n",
    "print('The total time to execute the data scraping in first 10 tabs is', time_difference_1)"
   ]
  },
  {
   "cell_type": "code",
   "execution_count": 32,
   "id": "45e933d3",
   "metadata": {},
   "outputs": [
    {
     "name": "stdout",
     "output_type": "stream",
     "text": [
      "The total time to execute the data scraping in second 10 tabs is 91.89066100120544\n"
     ]
    }
   ],
   "source": [
    "# Function usage:\n",
    "start_time = time.time() # Calculating the time difference in seconds\n",
    "\n",
    "tab11_data = login_and_scrape_tab('//h5[contains(text(), \"Property Filter Expression\")]', 'Property Filter Expression')\n",
    "tab12_data = login_and_scrape_tab('//h5[contains(text(), \"Report Headings\")]', 'Report Headings')\n",
    "tab13_data = login_and_scrape_tab('//h5[contains(text(), \"Report Overrides\")]', 'Report Overrides')\n",
    "tab14_data = login_and_scrape_tab('//h5[contains(text(), \"Report Formatting\")]', 'Report Formatting')\n",
    "tab15_data = login_and_scrape_tab('//h5[contains(text(), \"Report Formulas\")]', 'Report Formulas')\n",
    "tab16_data = login_and_scrape_tab('//h5[contains(text(), \"DFX Functions\")]', 'DFX Functions')\n",
    "tab17_data = login_and_scrape_tab('//h5[contains(text(), \"Repeater\")]', 'Repeater')\n",
    "tab18_data = login_and_scrape_tab('//h5[contains(text(), \"Range and Multi-Range\")]', 'Range and Multi-Range')\n",
    "tab18_data = login_and_scrape_tab('//h5[contains(text(), \"Range Options\")]', 'Range Options')\n",
    "tab19_data = login_and_scrape_tab('//h5[contains(text(), \"Overview\")]', 'Overview')\n",
    "tab20_data = login_and_scrape_tab('//h5[contains(text(), \"Book Publish Configuration\")]', 'Book Publish Configuration')\n",
    "\n",
    "end_time = time.time()  # End timing\n",
    "time_difference_2 = end_time - start_time\n",
    "\n",
    "print('The total time to execute the data scraping in second 10 tabs is', time_difference_2)"
   ]
  },
  {
   "cell_type": "code",
   "execution_count": 33,
   "id": "57f7979f",
   "metadata": {},
   "outputs": [
    {
     "name": "stdout",
     "output_type": "stream",
     "text": [
      "The total time to execute the data scraping in last 3 tabs is 25.931597232818604\n"
     ]
    }
   ],
   "source": [
    "# Function usage:\n",
    "start_time = time.time() # Calculating the time difference in seconds\n",
    "\n",
    "tab21_data = login_and_scrape_tab('//h5[contains(text(), \"Email Published Book\")]', 'Email Published Book')\n",
    "tab22_data = login_and_scrape_tab('//h5[contains(text(), \"Cached Reports\")]', 'Cached Reports')\n",
    "tab23_data = login_and_scrape_tab('//h5[contains(text(), \"Using Macros in deFacto\")]', 'Using Macros in deFacto')\n",
    "\n",
    "\n",
    "end_time = time.time()  # End timing\n",
    "time_difference_3 = end_time - start_time\n",
    "\n",
    "print('The total time to execute the data scraping in last 3 tabs is', time_difference_3)"
   ]
  },
  {
   "cell_type": "code",
   "execution_count": 34,
   "id": "bae9defa",
   "metadata": {},
   "outputs": [
    {
     "name": "stdout",
     "output_type": "stream",
     "text": [
      "The average time to extract each Tab from deFacto Planning User Guide – Reporter is 9.18 seconds\n"
     ]
    }
   ],
   "source": [
    "# Calculating the total/average time to scrap all content of this course \n",
    "total_time_c = time_difference_1 + time_difference_2 + time_difference_3\n",
    "average_time_c = (time_difference_1 + time_difference_2 + time_difference_3) / 23\n",
    "\n",
    "# Print it in minutes \n",
    "print('The average time to extract each Tab from deFacto Planning User Guide – Reporter is', \\\n",
    "      round(average_time_c, 2), \"seconds\")"
   ]
  },
  {
   "cell_type": "code",
   "execution_count": 35,
   "id": "f6c08a2f",
   "metadata": {},
   "outputs": [],
   "source": [
    "# Create a DataFrame\n",
    "reporter_data = {\n",
    "\n",
    "\"Tab_Name\": [tab1_data['Tab_Name'], tab2_data['Tab_Name'], tab3_data['Tab_Name'], tab4_data['Tab_Name'], \n",
    "             tab5_data['Tab_Name'], tab6_data['Tab_Name'], tab7_data['Tab_Name'], tab8_data['Tab_Name'], \n",
    "             tab9_data['Tab_Name'], tab10_data['Tab_Name'], tab11_data['Tab_Name'], tab12_data['Tab_Name'], \n",
    "             tab13_data['Tab_Name'], tab14_data['Tab_Name'], tab15_data['Tab_Name'], tab16_data['Tab_Name'], \n",
    "             tab17_data['Tab_Name'], tab18_data['Tab_Name'], tab19_data['Tab_Name'], tab20_data['Tab_Name'],\n",
    "             tab21_data['Tab_Name'], tab22_data['Tab_Name'], tab23_data['Tab_Name']]\n",
    ", \n",
    "\"Tab_Content\": [tab1_data['Tab_Content'], tab2_data['Tab_Content'], tab3_data['Tab_Content'], tab4_data['Tab_Content'], \n",
    "             tab5_data['Tab_Content'], tab6_data['Tab_Content'], tab7_data['Tab_Content'], tab8_data['Tab_Content'], \n",
    "             tab9_data['Tab_Content'], tab10_data['Tab_Content'], tab11_data['Tab_Content'], tab12_data['Tab_Content'], \n",
    "             tab13_data['Tab_Content'], tab14_data['Tab_Content'], tab15_data['Tab_Content'], tab16_data['Tab_Content'], \n",
    "             tab17_data['Tab_Content'], tab18_data['Tab_Content'], tab19_data['Tab_Content'], tab20_data['Tab_Content'],\n",
    "             tab21_data['Tab_Content'], tab22_data['Tab_Content'], tab23_data['Tab_Content']]\n",
    "}\n",
    "\n",
    "# Construct dataframe\n",
    "df_reporter = pd.DataFrame(reporter_data)\n",
    "#print(df_reporter)"
   ]
  },
  {
   "cell_type": "markdown",
   "id": "7b1fc1bd",
   "metadata": {},
   "source": [
    "## VIII. Extraction of All Tabs in Course Four (Welcome Course)\n",
    "### \"deFacto Planning TRAINING ENVIRONMENT\""
   ]
  },
  {
   "cell_type": "code",
   "execution_count": 36,
   "id": "5d970d50",
   "metadata": {},
   "outputs": [
    {
     "name": "stdout",
     "output_type": "stream",
     "text": [
      "The average time to extract each Tab from deFacto Planning Welcome Page is 7.52 seconds\n"
     ]
    }
   ],
   "source": [
    "# Function usage:\n",
    "start_time = time.time() # Calculating the time difference in seconds\n",
    "\n",
    "# Create a new instance of the Chrome driver\n",
    "driver = webdriver.Chrome(executable_path='/usr/local/bin/chromedriver', chrome_options=chrome_options)\n",
    "\n",
    "\n",
    "# Navigate to the website's login page\n",
    "driver.get('https://training.defactoglobal.com/dashboard/')\n",
    "\n",
    "# Find the username and password input fields using ID attributes\n",
    "username_field = WebDriverWait(driver, 10).until(EC.presence_of_element_located((By.ID, 'llms_login')))\n",
    "password_field = WebDriverWait(driver, 10).until(EC.presence_of_element_located((By.ID, 'llms_password')))\n",
    "\n",
    "# Enter the username and password\n",
    "username_field.send_keys('xxxx')\n",
    "password_field.send_keys('yyyy')\n",
    "\n",
    "# Submit the login form\n",
    "password_field.submit()\n",
    "\n",
    "# Wait for the image element to be clickable and click on it\n",
    "image_element = WebDriverWait(driver, 10).until(EC.element_to_be_clickable((By.XPATH, '//a[@href=\"https://training.defactoglobal.com/course/welcome-to-defacto-training/\"]')))\n",
    "image_element.click()\n",
    "\n",
    "# Wait for the tab content to load\n",
    "tab_content_element = WebDriverWait(driver, 10).until(EC.presence_of_element_located((By.CLASS_NAME, 'entry-content')))\n",
    "\n",
    "# Get the page source\n",
    "time.sleep(2)  # Add a small delay to ensure the page loads completely\n",
    "page_source = driver.page_source\n",
    "\n",
    "# Create BeautifulSoup object\n",
    "soup = BeautifulSoup(page_source, 'html.parser')\n",
    "\n",
    "# Scrape everything on the page\n",
    "tab_content = soup.find('div', class_='entry-content clear')\n",
    "\n",
    "# Close the WebDriver\n",
    "driver.quit()\n",
    "\n",
    "end_time = time.time()  # End timing\n",
    "time_difference = end_time - start_time\n",
    "\n",
    "# Calculate total/average time for scrapping this tab\n",
    "total_time_d = time_difference\n",
    "average_time_d = time_difference \n",
    "\n",
    "# Print it in minutes \n",
    "print('The average time to extract each Tab from deFacto Planning Welcome Page is', \\\n",
    "      round(time_difference, 2), \"seconds\")"
   ]
  },
  {
   "cell_type": "code",
   "execution_count": 37,
   "id": "123e4490",
   "metadata": {},
   "outputs": [],
   "source": [
    "# Create a DataFrame\n",
    "welcome_data = {\n",
    "    \"Tab_Name\": [\"Welcome\"],\n",
    "    \"Tab_Content\": [tab_content]\n",
    "}\n",
    "\n",
    "# Construct dataframe\n",
    "df_welcome = pd.DataFrame(welcome_data)\n",
    "#print(df_welcome)"
   ]
  },
  {
   "cell_type": "markdown",
   "id": "a5d7f1d6",
   "metadata": {},
   "source": [
    "## IX. Final Combination and Analysis "
   ]
  },
  {
   "cell_type": "code",
   "execution_count": 38,
   "id": "e26012b6",
   "metadata": {},
   "outputs": [],
   "source": [
    "# Combine the DataFrames vertically\n",
    "combined_df = pd.concat([df_modeler, df_planner, df_reporter, df_welcome], axis=0, ignore_index=True)\n",
    "\n",
    "#print(combined_df)"
   ]
  },
  {
   "cell_type": "code",
   "execution_count": 39,
   "id": "4f57b693",
   "metadata": {},
   "outputs": [
    {
     "data": {
      "text/plain": [
       "(77, 2)"
      ]
     },
     "execution_count": 39,
     "metadata": {},
     "output_type": "execute_result"
    }
   ],
   "source": [
    "# Display the shape of the combined dataframe\n",
    "combined_df.shape"
   ]
  },
  {
   "cell_type": "code",
   "execution_count": 40,
   "id": "0fba32a7",
   "metadata": {},
   "outputs": [
    {
     "name": "stdout",
     "output_type": "stream",
     "text": [
      "DataFrame saved to raw_data.csv\n"
     ]
    }
   ],
   "source": [
    "# Save the DataFrame to a CSV file\n",
    "csv_filename = 'raw_data.csv'\n",
    "combined_df.to_csv(csv_filename, index = False)\n",
    "\n",
    "print(f\"DataFrame saved to {csv_filename}\")"
   ]
  },
  {
   "cell_type": "code",
   "execution_count": 41,
   "id": "73c63bbb",
   "metadata": {},
   "outputs": [
    {
     "data": {
      "image/png": "[encoded data removed]",
      "text/plain": [
       "<Figure size 720x432 with 1 Axes>"
      ]
     },
     "metadata": {
      "needs_background": "light"
     },
     "output_type": "display_data"
    },
    {
     "data": {
      "image/png": "[encoded data removed]",
      "text/plain": [
       "<Figure size 720x432 with 1 Axes>"
      ]
     },
     "metadata": {
      "needs_background": "light"
     },
     "output_type": "display_data"
    },
    {
     "name": "stdout",
     "output_type": "stream",
     "text": [
      "            Course  Average Time per Tab  Total Time per Course\n",
      "0   Modeler Course              8.668140             346.725601\n",
      "1   Planner Course              8.651408             112.468305\n",
      "2  Reporter Course              9.182585             211.199448\n",
      "3   Welcome Course              7.517605               7.517605\n"
     ]
    }
   ],
   "source": [
    "import matplotlib.pyplot as plt\n",
    "\n",
    "# Create a DataFrame\n",
    "data = {\n",
    "    'Course': ['Modeler Course', 'Planner Course', 'Reporter Course', 'Welcome Course'],\n",
    "    'Average Time per Tab': [average_time_a, average_time_b, average_time_c, average_time_d],\n",
    "    'Total Time per Course': [total_time_a, total_time_b, total_time_c, total_time_d]\n",
    "}\n",
    "df = pd.DataFrame(data)\n",
    "\n",
    "# Create a line graph for Average Time per Tab\n",
    "plt.figure(figsize = (10, 6))\n",
    "plt.plot(df['Course'], df['Average Time per Tab'], marker = 'o', color = 'blue')\n",
    "plt.title('Average Time per Tab')\n",
    "plt.xlabel('Course')\n",
    "plt.ylabel('Time (seconds)')\n",
    "plt.xticks(rotation = 35)\n",
    "plt.grid(True)\n",
    "plt.tight_layout()\n",
    "\n",
    "# Save the line graph as an image (optional)\n",
    "plt.savefig('average_time_per_tab.png')\n",
    "\n",
    "# Show the line graph\n",
    "plt.show()\n",
    "\n",
    "# Create a bar plot for Total Time per Course\n",
    "plt.figure(figsize = (10, 6))\n",
    "plt.bar(df['Course'], df['Total Time per Course'], color = 'green', alpha = 0.7)\n",
    "plt.title('Total Time per Course')\n",
    "plt.xlabel('Course')\n",
    "plt.ylabel('Time (seconds)')\n",
    "plt.xticks(rotation = 35)\n",
    "plt.grid(True)\n",
    "plt.tight_layout()\n",
    "\n",
    "# Save the bar plot as an image (optional)\n",
    "plt.savefig('total_time_per_course.png')\n",
    "\n",
    "# Show the bar plot\n",
    "plt.show()\n",
    "\n",
    "# Display the DataFrame\n",
    "print(df)"
   ]
  }
 ],
 "metadata": {
  "kernelspec": {
   "display_name": "Python 3 (ipykernel)",
   "language": "python",
   "name": "python3"
  },
  "language_info": {
   "codemirror_mode": {
    "name": "ipython",
    "version": 3
   },
   "file_extension": ".py",
   "mimetype": "text/x-python",
   "name": "python",
   "nbconvert_exporter": "python",
   "pygments_lexer": "ipython3",
   "version": "3.9.7"
  }
 },
 "nbformat": 4,
 "nbformat_minor": 5
}
